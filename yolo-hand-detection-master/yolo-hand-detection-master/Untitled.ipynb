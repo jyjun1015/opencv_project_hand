{
 "cells": [
  {
   "cell_type": "code",
   "execution_count": 6,
   "metadata": {},
   "outputs": [
    {
     "name": "stdout",
     "output_type": "stream",
     "text": [
      "starting webcam...\n"
     ]
    }
   ],
   "source": [
    "import argparse\n",
    "import cv2\n",
    "\n",
    "from yolo import YOLO\n",
    "\n",
    "# ap = argparse.ArgumentParser()\n",
    "# ap.add_argument('-n', '--network', default=\"normal\", help='Network Type: normal / tiny / prn')\n",
    "# ap.add_argument('-d', '--device', default=0, help='Device to use')\n",
    "# ap.add_argument('-s', '--size', default=416, help='Size for yolo')\n",
    "# ap.add_argument('-c', '--confidence', default=0.2, help='Confidence for yolo')\n",
    "# args = ap.parse_args()\n",
    "\n",
    "# if args.network == \"normal\":\n",
    "#     print(\"loading yolo...\")\n",
    "#     yolo = YOLO(\"models/cross-hands.cfg\", \"models/cross-hands.weights\", [\"hand\"])\n",
    "# elif args.network == \"prn\":\n",
    "#     print(\"loading yolo-tiny-prn...\")\n",
    "#     yolo = YOLO(\"models/cross-hands-tiny-prn.cfg\", \"models/cross-hands-tiny-prn.weights\", [\"hand\"])\n",
    "# else:\n",
    "#     print(\"loading yolo-tiny...\")\n",
    "yolo = YOLO(\"models/cross-hands-tiny.cfg\", \"models/cross-hands-tiny.weights\", [\"hand\"])\n",
    "\n",
    "# yolo.size = int(args.size)\n",
    "# yolo.confidence = float(args.confidence)\n",
    "\n",
    "print(\"starting webcam...\")\n",
    "cv2.namedWindow(\"preview\")\n",
    "vc = cv2.VideoCapture(0)\n",
    "\n",
    "if vc.isOpened():  # try to get the first frame\n",
    "    rval, frame = vc.read()\n",
    "else:\n",
    "    rval = False\n",
    "\n",
    "while rval:\n",
    "    width, height, inference_time, results = yolo.inference(frame)\n",
    "    for detection in results:\n",
    "        id, name, confidence, x, y, w, h = detection\n",
    "        cx = x + (w / 2)\n",
    "        cy = y + (h / 2)\n",
    "\n",
    "        # draw a bounding box rectangle and label on the image\n",
    "        color = (0, 255, 255)\n",
    "        cv2.rectangle(frame, (x, y), (x + w, y + h), color, 2)\n",
    "        text = \"%s (%s)\" % (name, round(confidence, 2))\n",
    "        cv2.putText(frame, text, (x, y - 5), cv2.FONT_HERSHEY_SIMPLEX,\n",
    "                    0.5, color, 2)\n",
    "\n",
    "    cv2.imshow(\"preview\", frame)\n",
    "\n",
    "    rval, frame = vc.read()\n",
    "\n",
    "    key = cv2.waitKey(20)\n",
    "    if key == 27:  # exit on ESC\n",
    "        break\n",
    "\n",
    "cv2.destroyWindow(\"preview\")\n",
    "vc.release()\n"
   ]
  }
 ],
 "metadata": {
  "kernelspec": {
   "display_name": "Python 3",
   "language": "python",
   "name": "python3"
  },
  "language_info": {
   "codemirror_mode": {
    "name": "ipython",
    "version": 3
   },
   "file_extension": ".py",
   "mimetype": "text/x-python",
   "name": "python",
   "nbconvert_exporter": "python",
   "pygments_lexer": "ipython3",
   "version": "3.7.4"
  }
 },
 "nbformat": 4,
 "nbformat_minor": 2
}
